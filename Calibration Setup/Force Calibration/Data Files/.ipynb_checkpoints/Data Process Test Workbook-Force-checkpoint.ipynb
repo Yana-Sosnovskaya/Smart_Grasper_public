{
 "cells": [
  {
   "cell_type": "code",
   "execution_count": 31,
   "id": "214930b8",
   "metadata": {},
   "outputs": [],
   "source": [
    "%matplotlib inline\n",
    "\n",
    "import pandas as pd\n",
    "import numpy as np\n",
    "import matplotlib.pyplot as plt"
   ]
  },
  {
   "cell_type": "code",
   "execution_count": 32,
   "id": "84735830",
   "metadata": {},
   "outputs": [],
   "source": [
    "df = pd.read_csv('Force_Calibration_03_25_2021_0.csv')"
   ]
  },
  {
   "cell_type": "code",
   "execution_count": 33,
   "id": "03ac4047",
   "metadata": {},
   "outputs": [],
   "source": [
    "trial_index = df['Trial'].values"
   ]
  },
  {
   "cell_type": "code",
   "execution_count": 34,
   "id": "bd4d2c23",
   "metadata": {},
   "outputs": [
    {
     "data": {
      "text/plain": [
       "5"
      ]
     },
     "execution_count": 34,
     "metadata": {},
     "output_type": "execute_result"
    }
   ],
   "source": [
    "np.max(df['Trial'].values)"
   ]
  },
  {
   "cell_type": "code",
   "execution_count": 35,
   "id": "b04d9ebb",
   "metadata": {},
   "outputs": [
    {
     "data": {
      "text/html": [
       "<div>\n",
       "<style scoped>\n",
       "    .dataframe tbody tr th:only-of-type {\n",
       "        vertical-align: middle;\n",
       "    }\n",
       "\n",
       "    .dataframe tbody tr th {\n",
       "        vertical-align: top;\n",
       "    }\n",
       "\n",
       "    .dataframe thead th {\n",
       "        text-align: right;\n",
       "    }\n",
       "</style>\n",
       "<table border=\"1\" class=\"dataframe\">\n",
       "  <thead>\n",
       "    <tr style=\"text-align: right;\">\n",
       "      <th></th>\n",
       "      <th>Trial</th>\n",
       "      <th>PWM</th>\n",
       "      <th>Grasper Force Sensor (Counts)</th>\n",
       "      <th>External Force Sensor (Counts)</th>\n",
       "      <th>Encoder Value (Pulses)</th>\n",
       "    </tr>\n",
       "  </thead>\n",
       "  <tbody>\n",
       "    <tr>\n",
       "      <th>114</th>\n",
       "      <td>1</td>\n",
       "      <td>120</td>\n",
       "      <td>276</td>\n",
       "      <td>68573</td>\n",
       "      <td>-53574</td>\n",
       "    </tr>\n",
       "    <tr>\n",
       "      <th>115</th>\n",
       "      <td>1</td>\n",
       "      <td>120</td>\n",
       "      <td>280</td>\n",
       "      <td>90434</td>\n",
       "      <td>-54275</td>\n",
       "    </tr>\n",
       "    <tr>\n",
       "      <th>116</th>\n",
       "      <td>1</td>\n",
       "      <td>120</td>\n",
       "      <td>315</td>\n",
       "      <td>112962</td>\n",
       "      <td>-55315</td>\n",
       "    </tr>\n",
       "    <tr>\n",
       "      <th>117</th>\n",
       "      <td>1</td>\n",
       "      <td>120</td>\n",
       "      <td>372</td>\n",
       "      <td>135360</td>\n",
       "      <td>-56357</td>\n",
       "    </tr>\n",
       "    <tr>\n",
       "      <th>118</th>\n",
       "      <td>1</td>\n",
       "      <td>120</td>\n",
       "      <td>426</td>\n",
       "      <td>157328</td>\n",
       "      <td>-57372</td>\n",
       "    </tr>\n",
       "    <tr>\n",
       "      <th>...</th>\n",
       "      <td>...</td>\n",
       "      <td>...</td>\n",
       "      <td>...</td>\n",
       "      <td>...</td>\n",
       "      <td>...</td>\n",
       "    </tr>\n",
       "    <tr>\n",
       "      <th>223</th>\n",
       "      <td>1</td>\n",
       "      <td>120</td>\n",
       "      <td>461</td>\n",
       "      <td>206669</td>\n",
       "      <td>-57728</td>\n",
       "    </tr>\n",
       "    <tr>\n",
       "      <th>224</th>\n",
       "      <td>1</td>\n",
       "      <td>120</td>\n",
       "      <td>460</td>\n",
       "      <td>206651</td>\n",
       "      <td>-57728</td>\n",
       "    </tr>\n",
       "    <tr>\n",
       "      <th>225</th>\n",
       "      <td>1</td>\n",
       "      <td>120</td>\n",
       "      <td>460</td>\n",
       "      <td>206675</td>\n",
       "      <td>-57728</td>\n",
       "    </tr>\n",
       "    <tr>\n",
       "      <th>226</th>\n",
       "      <td>1</td>\n",
       "      <td>120</td>\n",
       "      <td>461</td>\n",
       "      <td>206686</td>\n",
       "      <td>-57728</td>\n",
       "    </tr>\n",
       "    <tr>\n",
       "      <th>227</th>\n",
       "      <td>1</td>\n",
       "      <td>120</td>\n",
       "      <td>461</td>\n",
       "      <td>206686</td>\n",
       "      <td>-57728</td>\n",
       "    </tr>\n",
       "  </tbody>\n",
       "</table>\n",
       "<p>114 rows × 5 columns</p>\n",
       "</div>"
      ],
      "text/plain": [
       "     Trial  PWM  Grasper Force Sensor (Counts)  \\\n",
       "114      1  120                            276   \n",
       "115      1  120                            280   \n",
       "116      1  120                            315   \n",
       "117      1  120                            372   \n",
       "118      1  120                            426   \n",
       "..     ...  ...                            ...   \n",
       "223      1  120                            461   \n",
       "224      1  120                            460   \n",
       "225      1  120                            460   \n",
       "226      1  120                            461   \n",
       "227      1  120                            461   \n",
       "\n",
       "     External Force Sensor (Counts)  Encoder Value (Pulses)  \n",
       "114                           68573                  -53574  \n",
       "115                           90434                  -54275  \n",
       "116                          112962                  -55315  \n",
       "117                          135360                  -56357  \n",
       "118                          157328                  -57372  \n",
       "..                              ...                     ...  \n",
       "223                          206669                  -57728  \n",
       "224                          206651                  -57728  \n",
       "225                          206675                  -57728  \n",
       "226                          206686                  -57728  \n",
       "227                          206686                  -57728  \n",
       "\n",
       "[114 rows x 5 columns]"
      ]
     },
     "execution_count": 35,
     "metadata": {},
     "output_type": "execute_result"
    }
   ],
   "source": [
    "df[new_values]"
   ]
  },
  {
   "cell_type": "code",
   "execution_count": 37,
   "id": "51b98a36",
   "metadata": {},
   "outputs": [
    {
     "data": {
      "text/plain": [
       "array([[     0,     90,      0,    460, -20395],\n",
       "       [     0,     90,      0,    624, -20526],\n",
       "       [     0,     90,      0,    900, -21613],\n",
       "       ...,\n",
       "       [     5,    175,    749, 323389, -67091],\n",
       "       [     5,    175,    749, 323383, -67091],\n",
       "       [     5,    175,    749, 323418, -67091]])"
      ]
     },
     "execution_count": 37,
     "metadata": {},
     "output_type": "execute_result"
    }
   ],
   "source": [
    "df.values"
   ]
  },
  {
   "cell_type": "code",
   "execution_count": null,
   "id": "df5ff8b6",
   "metadata": {},
   "outputs": [],
   "source": []
  },
  {
   "cell_type": "code",
   "execution_count": null,
   "id": "20a2c2e2",
   "metadata": {},
   "outputs": [],
   "source": []
  }
 ],
 "metadata": {
  "kernelspec": {
   "display_name": "Python 3",
   "language": "python",
   "name": "python3"
  },
  "language_info": {
   "codemirror_mode": {
    "name": "ipython",
    "version": 3
   },
   "file_extension": ".py",
   "mimetype": "text/x-python",
   "name": "python",
   "nbconvert_exporter": "python",
   "pygments_lexer": "ipython3",
   "version": "3.8.5"
  }
 },
 "nbformat": 4,
 "nbformat_minor": 5
}
